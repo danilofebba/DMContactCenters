{
 "cells": [
  {
   "cell_type": "markdown",
   "id": "2b794696-206b-4449-91d5-1ae76f4833df",
   "metadata": {},
   "source": [
    "* python -m venv python\n",
    "* python\\Scripts\\activate\n",
    "* python -m pip install --upgrade pip setuptools wheel\n",
    "* python -m pip install jupyterlab\n",
    "* python -m pip install avro-python3\n",
    "* python -m pip install snappy\n",
    "* python -m pip install python-snappy\n",
    "* python -m pip install pandas\n",
    "* python -m pip install pandavro"
   ]
  },
  {
   "cell_type": "code",
   "execution_count": 1,
   "id": "455ee454-8c10-4838-8f49-9dabcfb9cb4a",
   "metadata": {},
   "outputs": [
    {
     "name": "stdout",
     "output_type": "stream",
     "text": [
      "104912\n"
     ]
    }
   ],
   "source": [
    "import os\n",
    "print(os.getpid())"
   ]
  },
  {
   "cell_type": "code",
   "execution_count": 2,
   "id": "d81a0f99-b9c6-4b1e-9c77-f3f6cae0d7a8",
   "metadata": {},
   "outputs": [],
   "source": [
    "import datetime\n",
    "import dateutil\n",
    "import time\n",
    "import uuid\n",
    "\n",
    "import json\n",
    "import avro.schema\n",
    "from avro.datafile import DataFileReader, DataFileWriter\n",
    "from avro.io import DatumReader, DatumWriter"
   ]
  },
  {
   "cell_type": "code",
   "execution_count": 3,
   "id": "b2089f1b-0f51-4656-a96a-3f131d40f38f",
   "metadata": {},
   "outputs": [],
   "source": [
    "schema = {\n",
    "  \"type\": \"record\",\n",
    "  \"name\": \"phone_book\",\n",
    "  \"fields\": [\n",
    "    {\n",
    "      \"name\": \"identify\",\n",
    "      \"type\": \"long\"\n",
    "    },\n",
    "    {\n",
    "      \"name\": \"name\",\n",
    "      \"type\": \"string\"\n",
    "    },\n",
    "    {\n",
    "      \"name\": \"created_at\",\n",
    "      \"type\": {\n",
    "        \"type\": \"long\",\n",
    "        \"logicalType\": \"local-timestamp-micros\"\n",
    "      }\n",
    "    },\n",
    "    {\n",
    "      \"name\": \"cell_phone\",\n",
    "      \"type\": [\n",
    "        \"null\",\n",
    "        {\n",
    "          \"type\": \"array\",\n",
    "          \"items\": {\n",
    "            \"name\": \"record.cell_phone\",\n",
    "            \"type\": \"record\",\n",
    "            \"fields\": [\n",
    "              {\n",
    "                \"name\": \"ddd\",\n",
    "                \"type\": \"int\"\n",
    "              },\n",
    "              {\n",
    "                \"name\": \"number\",\n",
    "                \"type\": \"long\"\n",
    "              }\n",
    "            ]\n",
    "          }\n",
    "        }\n",
    "      ]\n",
    "    },\n",
    "    {\n",
    "      \"name\": \"code\",\n",
    "      \"type\": {\n",
    "        \"type\": \"string\",\n",
    "        \"logicalType\": \"uuid\"\n",
    "      }\n",
    "    }\n",
    "  ]\n",
    "}\n",
    "schema_parsed = avro.schema.Parse(json.dumps(schema))"
   ]
  },
  {
   "cell_type": "code",
   "execution_count": 4,
   "id": "e9ad4860-edfe-4f51-baf6-f6ace6d62f31",
   "metadata": {},
   "outputs": [],
   "source": [
    "df = open(\"example.avro\", \"wb\")\n",
    "writer = DataFileWriter(df, DatumWriter(), schema_parsed, codec=\"snappy\")"
   ]
  },
  {
   "cell_type": "code",
   "execution_count": 5,
   "id": "4f9ab86a-7ccd-419c-a324-f5091a324229",
   "metadata": {},
   "outputs": [],
   "source": [
    "for i in range(1000000):\n",
    "    writer.append(\n",
    "        {\n",
    "            \"identify\": 1,\n",
    "            \"name\": \"Danilo\",\n",
    "            \"created_at\": int((datetime.datetime.today() - datetime.datetime(1970,1,1)).total_seconds() * 1000000),\n",
    "            \"cell_phone\": [{\"ddd\": 11, \"number\": 24752569},{\"ddd\": 11, \"number\": 247525698}],\n",
    "            \"code\": str(uuid.uuid4())\n",
    "        }\n",
    "    )\n",
    "    writer.append(\n",
    "        {\n",
    "            \"identify\": 1,\n",
    "            \"name\": \"Danilo\",\n",
    "            \"created_at\": int((datetime.datetime.today() - datetime.datetime(1970,1,1)).total_seconds() * 1000000),\n",
    "            \"cell_phone\": [],\n",
    "            \"code\": str(uuid.uuid4())\n",
    "        }\n",
    "    )"
   ]
  },
  {
   "cell_type": "code",
   "execution_count": 6,
   "id": "5b0f18a1-9c43-4077-b6ba-10c784ad9850",
   "metadata": {},
   "outputs": [],
   "source": [
    "writer.close()"
   ]
  },
  {
   "cell_type": "code",
   "execution_count": null,
   "id": "9fa7f298-b528-4be1-a3ea-2bf168ed9b86",
   "metadata": {},
   "outputs": [],
   "source": []
  },
  {
   "cell_type": "code",
   "execution_count": null,
   "id": "0d311adc-88c3-44ac-a049-610dcd90732d",
   "metadata": {},
   "outputs": [],
   "source": [
    "df = open('example.avro', 'rb')\n",
    "reader = DataFileReader(df, DatumReader())\n",
    "for user in reader:\n",
    "    print(user)\n",
    "    time.sleep(2)\n",
    "df.close()"
   ]
  },
  {
   "cell_type": "code",
   "execution_count": null,
   "id": "f3e77b20-4a4c-4b5b-84c6-a54f95154047",
   "metadata": {},
   "outputs": [],
   "source": []
  },
  {
   "cell_type": "code",
   "execution_count": null,
   "id": "ed6311e3-78a4-4a52-9ac4-1a39d60e2301",
   "metadata": {},
   "outputs": [],
   "source": [
    "import pandavro\n",
    "df = pandavro.read_avro('example.avro')\n",
    "df.infor()"
   ]
  }
 ],
 "metadata": {
  "kernelspec": {
   "display_name": "Python 3",
   "language": "python",
   "name": "python3"
  },
  "language_info": {
   "codemirror_mode": {
    "name": "ipython",
    "version": 3
   },
   "file_extension": ".py",
   "mimetype": "text/x-python",
   "name": "python",
   "nbconvert_exporter": "python",
   "pygments_lexer": "ipython3",
   "version": "3.8.5"
  }
 },
 "nbformat": 4,
 "nbformat_minor": 5
}
